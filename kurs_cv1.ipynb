{
 "cells": [
  {
   "cell_type": "code",
   "execution_count": 62,
   "id": "389e38c5",
   "metadata": {},
   "outputs": [],
   "source": [
    "\"\"\"\n",
    "Курсовой проект\n",
    "Линейная регресия\n",
    "Использован Датасет https://www.kaggle.com/zakriarehman/weather-data-for-linear-regression?select=weather.csv\n",
    "Целевая переменная : Видимость\n",
    "\n",
    "\"\"\"\n",
    "\n",
    "import warnings\n",
    "warnings.filterwarnings('ignore')\n",
    "import pandas as pd\n",
    "import numpy as np\n",
    "from matplotlib import pyplot \n",
    "import sklearn as sk\n",
    "from sklearn.model_selection import train_test_split\n",
    "from sklearn.linear_model import LinearRegression\n",
    "from sklearn.preprocessing import MinMaxScaler\n",
    "\n",
    "\n",
    "\n",
    "\n",
    "#DATASET_PATH = https://www.kaggle.com/zakriarehman/weather-data-for-linear-regression?select=weather.csv\n",
    "\n",
    "\n",
    "DATASET_PATH = '/home/orangepi/Downloads/weather.csv'\n",
    "dataset = pd.read_csv(DATASET_PATH, sep = ',')"
   ]
  },
  {
   "cell_type": "code",
   "execution_count": 64,
   "id": "16faf3d5",
   "metadata": {},
   "outputs": [],
   "source": [
    "\n",
    "target = dataset ['Visibility_km']\n",
    "data = pd.DataFrame(dataset ,columns = ['Temperature_c', 'Humidity', 'Wind_Speed_kmh', 'Pressure_millibars', 'Rain'])"
   ]
  },
  {
   "cell_type": "code",
   "execution_count": 73,
   "id": "2d1009ab",
   "metadata": {},
   "outputs": [
    {
     "data": {
      "text/html": [
       "<div>\n",
       "<style scoped>\n",
       "    .dataframe tbody tr th:only-of-type {\n",
       "        vertical-align: middle;\n",
       "    }\n",
       "\n",
       "    .dataframe tbody tr th {\n",
       "        vertical-align: top;\n",
       "    }\n",
       "\n",
       "    .dataframe thead th {\n",
       "        text-align: right;\n",
       "    }\n",
       "</style>\n",
       "<table border=\"1\" class=\"dataframe\">\n",
       "  <thead>\n",
       "    <tr style=\"text-align: right;\">\n",
       "      <th></th>\n",
       "      <th>Temperature_c</th>\n",
       "      <th>Humidity</th>\n",
       "      <th>Wind_Speed_kmh</th>\n",
       "      <th>Pressure_millibars</th>\n",
       "      <th>Rain</th>\n",
       "    </tr>\n",
       "  </thead>\n",
       "  <tbody>\n",
       "    <tr>\n",
       "      <th>0</th>\n",
       "      <td>-0.555556</td>\n",
       "      <td>0.92</td>\n",
       "      <td>11.2700</td>\n",
       "      <td>1021.60</td>\n",
       "      <td>0</td>\n",
       "    </tr>\n",
       "    <tr>\n",
       "      <th>1</th>\n",
       "      <td>21.111111</td>\n",
       "      <td>0.73</td>\n",
       "      <td>20.9300</td>\n",
       "      <td>1017.00</td>\n",
       "      <td>1</td>\n",
       "    </tr>\n",
       "    <tr>\n",
       "      <th>2</th>\n",
       "      <td>16.600000</td>\n",
       "      <td>0.97</td>\n",
       "      <td>5.9731</td>\n",
       "      <td>1013.99</td>\n",
       "      <td>1</td>\n",
       "    </tr>\n",
       "    <tr>\n",
       "      <th>3</th>\n",
       "      <td>1.600000</td>\n",
       "      <td>0.82</td>\n",
       "      <td>3.2200</td>\n",
       "      <td>1031.59</td>\n",
       "      <td>1</td>\n",
       "    </tr>\n",
       "    <tr>\n",
       "      <th>4</th>\n",
       "      <td>2.194444</td>\n",
       "      <td>0.60</td>\n",
       "      <td>10.8836</td>\n",
       "      <td>1020.88</td>\n",
       "      <td>1</td>\n",
       "    </tr>\n",
       "    <tr>\n",
       "      <th>5</th>\n",
       "      <td>27.538889</td>\n",
       "      <td>0.32</td>\n",
       "      <td>21.4613</td>\n",
       "      <td>1015.33</td>\n",
       "      <td>1</td>\n",
       "    </tr>\n",
       "    <tr>\n",
       "      <th>6</th>\n",
       "      <td>19.977778</td>\n",
       "      <td>0.84</td>\n",
       "      <td>7.9695</td>\n",
       "      <td>1009.04</td>\n",
       "      <td>1</td>\n",
       "    </tr>\n",
       "    <tr>\n",
       "      <th>7</th>\n",
       "      <td>11.111111</td>\n",
       "      <td>0.86</td>\n",
       "      <td>14.4900</td>\n",
       "      <td>1009.60</td>\n",
       "      <td>1</td>\n",
       "    </tr>\n",
       "    <tr>\n",
       "      <th>8</th>\n",
       "      <td>8.405556</td>\n",
       "      <td>0.73</td>\n",
       "      <td>14.0070</td>\n",
       "      <td>1018.39</td>\n",
       "      <td>1</td>\n",
       "    </tr>\n",
       "    <tr>\n",
       "      <th>9</th>\n",
       "      <td>1.700000</td>\n",
       "      <td>0.81</td>\n",
       "      <td>6.4400</td>\n",
       "      <td>1003.89</td>\n",
       "      <td>1</td>\n",
       "    </tr>\n",
       "  </tbody>\n",
       "</table>\n",
       "</div>"
      ],
      "text/plain": [
       "   Temperature_c  Humidity  Wind_Speed_kmh  Pressure_millibars  Rain\n",
       "0      -0.555556      0.92         11.2700             1021.60     0\n",
       "1      21.111111      0.73         20.9300             1017.00     1\n",
       "2      16.600000      0.97          5.9731             1013.99     1\n",
       "3       1.600000      0.82          3.2200             1031.59     1\n",
       "4       2.194444      0.60         10.8836             1020.88     1\n",
       "5      27.538889      0.32         21.4613             1015.33     1\n",
       "6      19.977778      0.84          7.9695             1009.04     1\n",
       "7      11.111111      0.86         14.4900             1009.60     1\n",
       "8       8.405556      0.73         14.0070             1018.39     1\n",
       "9       1.700000      0.81          6.4400             1003.89     1"
      ]
     },
     "execution_count": 73,
     "metadata": {},
     "output_type": "execute_result"
    }
   ],
   "source": [
    "data.head(10)"
   ]
  },
  {
   "cell_type": "code",
   "execution_count": 74,
   "id": "4da7bd94",
   "metadata": {},
   "outputs": [],
   "source": [
    "X_train,X_test,y_train,y_test = train_test_split(data, target, test_size= 0.25)"
   ]
  },
  {
   "cell_type": "code",
   "execution_count": 77,
   "id": "5098de75",
   "metadata": {},
   "outputs": [],
   "source": [
    "model = LinearRegression()#.t(fiX_train,y_train)"
   ]
  },
  {
   "cell_type": "code",
   "execution_count": 81,
   "id": "e6955f7c",
   "metadata": {},
   "outputs": [
    {
     "data": {
      "text/plain": [
       "LinearRegression()"
      ]
     },
     "execution_count": 81,
     "metadata": {},
     "output_type": "execute_result"
    }
   ],
   "source": [
    "model.fit(X_train,y_train)"
   ]
  },
  {
   "cell_type": "markdown",
   "id": "32a4191f",
   "metadata": {},
   "source": [
    "Метрика"
   ]
  },
  {
   "cell_type": "code",
   "execution_count": 80,
   "id": "de121e8f",
   "metadata": {},
   "outputs": [
    {
     "name": "stdout",
     "output_type": "stream",
     "text": [
      "13.92360011218714\n",
      "3.075997865144933\n"
     ]
    }
   ],
   "source": [
    "y_predict = model.predict(X_test)\n",
    "y_predict.shape\n",
    "\n",
    "check_test = pd.DataFrame({\n",
    "    'y_test':y_test,\n",
    "    'y_pred': y_predict.flatten(),\n",
    "})\n",
    "check_test['error'] = check_test['y_pred'] - check_test['y_test']\n",
    "mse = (check_test['error']**2).mean()\n",
    "absolut = (np.abs(check_test['error'])).mean()\n",
    "print(mse)\n",
    "print(absolut)"
   ]
  },
  {
   "cell_type": "markdown",
   "id": "4dbf3dc8",
   "metadata": {},
   "source": [
    "#Запуск данных в обученную модель"
   ]
  },
  {
   "cell_type": "code",
   "execution_count": 39,
   "id": "cf990ae2",
   "metadata": {},
   "outputs": [],
   "source": [
    "X_predict = model.predict(X_train)"
   ]
  },
  {
   "cell_type": "code",
   "execution_count": 40,
   "id": "7575e5e4",
   "metadata": {},
   "outputs": [
    {
     "name": "stdout",
     "output_type": "stream",
     "text": [
      "13.994092254532005\n",
      "3.0640836827538425\n"
     ]
    }
   ],
   "source": [
    "check_test2 = pd.DataFrame({\n",
    "    'y_test':y_train,\n",
    "    'x_pred': X_predict.flatten(),\n",
    "})\n",
    "check_test2['error'] = check_test2['x_pred'] - check_test2['y_test']\n",
    "mse2 = (check_test2['error']**2).mean()\n",
    "absolut2 = (np.abs(check_test2['error'])).mean()\n",
    "print(mse2)\n",
    "print(absolut2)"
   ]
  },
  {
   "cell_type": "code",
   "execution_count": 42,
   "id": "f59a4ca8",
   "metadata": {},
   "outputs": [
    {
     "data": {
      "text/plain": [
       "[<matplotlib.lines.Line2D at 0x7f75a2bbe0>]"
      ]
     },
     "execution_count": 42,
     "metadata": {},
     "output_type": "execute_result"
    },
    {
     "data": {
      "image/png": "[encoded data removed]",
      "text/plain": [
       "<Figure size 432x288 with 1 Axes>"
      ]
     },
     "metadata": {
      "needs_background": "light"
     },
     "output_type": "display_data"
    }
   ],
   "source": [
    "pyplot.plot(model.coef_, ['Temperature_c', 'Humidity', 'Wind_Speed_kmh', 'Pressure_millibars', 'Rain'])"
   ]
  },
  {
   "cell_type": "code",
   "execution_count": 83,
   "id": "d8110f95",
   "metadata": {},
   "outputs": [
    {
     "data": {
      "text/plain": [
       "<matplotlib.collections.PathCollection at 0x7f750bd4a8>"
      ]
     },
     "execution_count": 83,
     "metadata": {},
     "output_type": "execute_result"
    },
    {
     "data": {
      "image/png": "[encoded data removed]",
      "text/plain": [
       "<Figure size 432x288 with 1 Axes>"
      ]
     },
     "metadata": {
      "needs_background": "light"
     },
     "output_type": "display_data"
    }
   ],
   "source": [
    "pyplot.scatter(check_test2['y_test'],check_test2['x_pred'])"
   ]
  },
  {
   "cell_type": "code",
   "execution_count": 96,
   "id": "d12a3c02",
   "metadata": {},
   "outputs": [],
   "source": [
    "Scaler = MinMaxScaler()\n",
    "stx = Scaler.fit_transform(X_train)\n",
    "X_trsc = pd.DataFrame(stx, columns = ['Temperature_c', 'Humidity', 'Wind_Speed_kmh', 'Pressure_millibars', 'Rain'])"
   ]
  },
  {
   "cell_type": "markdown",
   "id": "081c33a5",
   "metadata": {},
   "source": [
    "Стандартизировал"
   ]
  },
  {
   "cell_type": "code",
   "execution_count": 97,
   "id": "0a1e7ec8",
   "metadata": {},
   "outputs": [],
   "source": [
    "model.fit(X_trsc,y_train)\n",
    "X_predict2 = model.predict(X_trsc)"
   ]
  },
  {
   "cell_type": "code",
   "execution_count": 101,
   "id": "c0970540",
   "metadata": {},
   "outputs": [
    {
     "name": "stdout",
     "output_type": "stream",
     "text": [
      "13.994092254532005\n",
      "3.043574371745901\n"
     ]
    },
    {
     "data": {
      "text/plain": [
       "<matplotlib.collections.PathCollection at 0x7f75037eb8>"
      ]
     },
     "execution_count": 101,
     "metadata": {},
     "output_type": "execute_result"
    },
    {
     "data": {
      "image/png": "[encoded data removed]",
      "text/plain": [
       "<Figure size 432x288 with 1 Axes>"
      ]
     },
     "metadata": {
      "needs_background": "light"
     },
     "output_type": "display_data"
    }
   ],
   "source": [
    "check_test3 = pd.DataFrame({\n",
    "    'y_test':y_train,\n",
    "    'x_pred': X_predict2.flatten(),\n",
    "})\n",
    "check_test3['error'] = check_test3['x_pred'] - check_test3['y_test']\n",
    "mse3 = (check_test2['error']**2).mean()\n",
    "absolut3 = (np.abs(check_test3['error'])).mean()\n",
    "print(mse3)\n",
    "print(absolut3)\n",
    "pyplot.scatter(check_test3['y_test'],check_test3['x_pred'])"
   ]
  },
  {
   "cell_type": "markdown",
   "id": "635eed66",
   "metadata": {},
   "source": [
    "Вывод: Прогнозирование \"Видимости\" возможно при условии разделения видимости на три параметра: Min Middle Max\n",
    "Данная модель использована для проверки Линейной регрессии для данного датасета,результат: Не применимо.\n",
    "К сожалению другие модели еще не освоены.\n"
   ]
  },
  {
   "cell_type": "code",
   "execution_count": null,
   "id": "2cf21869",
   "metadata": {},
   "outputs": [],
   "source": []
  }
 ],
 "metadata": {
  "kernelspec": {
   "display_name": "Python 3",
   "language": "python",
   "name": "python3"
  },
  "language_info": {
   "codemirror_mode": {
    "name": "ipython",
    "version": 3
   },
   "file_extension": ".py",
   "mimetype": "text/x-python",
   "name": "python",
   "nbconvert_exporter": "python",
   "pygments_lexer": "ipython3",
   "version": "3.6.9"
  }
 },
 "nbformat": 4,
 "nbformat_minor": 5
}
