{
 "cells": [
  {
   "cell_type": "markdown",
   "id": "1d8d235f",
   "metadata": {},
   "source": [
    "Задание1."
   ]
  },
  {
   "cell_type": "code",
   "execution_count": 16,
   "id": "8c6d95b2",
   "metadata": {},
   "outputs": [
    {
     "name": "stdout",
     "output_type": "stream",
     "text": [
      "[2.  8.4]\n"
     ]
    }
   ],
   "source": [
    "import numpy as np\n",
    "\n",
    "a=np.array([[1, 2, 3, 3, 1,],[6, 8, 11, 10, 7]])\n",
    "at=np.transpose(a)\n",
    "\n",
    "mean_a = at.mean(axis=0)\n",
    "print (mean_a)"
   ]
  },
  {
   "cell_type": "markdown",
   "id": "088f135d",
   "metadata": {},
   "source": [
    "Задание 2"
   ]
  },
  {
   "cell_type": "code",
   "execution_count": 18,
   "id": "9200ee22",
   "metadata": {},
   "outputs": [
    {
     "name": "stdout",
     "output_type": "stream",
     "text": [
      "[[-1.  -2.4]\n",
      " [ 0.  -0.4]\n",
      " [ 1.   2.6]\n",
      " [ 1.   1.6]\n",
      " [-1.  -1.4]]\n"
     ]
    }
   ],
   "source": [
    "a_centered = at - mean_a\n",
    "print(a_centered)"
   ]
  },
  {
   "cell_type": "markdown",
   "id": "c0111fc6",
   "metadata": {},
   "source": [
    "Задание 3"
   ]
  },
  {
   "cell_type": "code",
   "execution_count": 45,
   "id": "c34c7e3f",
   "metadata": {},
   "outputs": [],
   "source": [
    "b = a_centered[:,0]\n",
    "c = a_centered[:,1]\n",
    "a_centered_sp = b@c"
   ]
  },
  {
   "cell_type": "code",
   "execution_count": 44,
   "id": "e12829e7",
   "metadata": {},
   "outputs": [
    {
     "name": "stdout",
     "output_type": "stream",
     "text": [
      "2\n"
     ]
    }
   ],
   "source": [
    "N = np.shape(a_centered)[0]\n",
    "print(int(a_centered_sp/(N-1)))"
   ]
  }
 ],
 "metadata": {
  "kernelspec": {
   "display_name": "Python 3",
   "language": "python",
   "name": "python3"
  },
  "language_info": {
   "codemirror_mode": {
    "name": "ipython",
    "version": 3
   },
   "file_extension": ".py",
   "mimetype": "text/x-python",
   "name": "python",
   "nbconvert_exporter": "python",
   "pygments_lexer": "ipython3",
   "version": "3.6.9"
  }
 },
 "nbformat": 4,
 "nbformat_minor": 5
}
