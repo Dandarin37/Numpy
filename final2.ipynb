"""
Курсовой проект
Линейная регресия
Использован Датасет https://www.kaggle.com/zakriarehman/weather-data-for-linear-regression?select=weather.csv
Целевая переменная : Видимость

"""

import warnings
warnings.filterwarnings('ignore')
import pandas as pd
import numpy as np
from matplotlib import pyplot 
import sklearn as sk
from sklearn.model_selection import train_test_split
from sklearn.linear_model import LinearRegression
from sklearn.preprocessing import MinMaxScaler




#DATASET_PATH = https://www.kaggle.com/zakriarehman/weather-data-for-linear-regression?select=weather.csv


DATASET_PATH = '/home/orangepi/Downloads/weather.csv'
dataset = pd.read_csv(DATASET_PATH, sep = ',')


target = dataset ['Visibility_km']
data = pd.DataFrame(dataset ,columns = ['Temperature_c', 'Humidity', 'Wind_Speed_kmh', 'Pressure_millibars', 'Rain'])

data.head(10)
X_train,X_test,y_train,y_test = train_test_split(data, target, test_size= 0.25)

model = LinearRegression()#.t(fiX_train,y_train)

model.fit(X_train,y_train)

y_predict = model.predict(X_test)
y_predict.shape

check_test = pd.DataFrame({
    'y_test':y_test,
    'y_pred': y_predict.flatten(),
})
check_test['error'] = check_test['y_pred'] - check_test['y_test']
mse = (check_test['error']**2).mean()
absolut = (np.abs(check_test['error'])).mean()
print(mse)
print(absolut)

X_predict = model.predict(X_train)

check_test2 = pd.DataFrame({
    'y_test':y_train,
    'x_pred': X_predict.flatten(),
})
check_test2['error'] = check_test2['x_pred'] - check_test2['y_test']
mse2 = (check_test2['error']**2).mean()
absolut2 = (np.abs(check_test2['error'])).mean()
print(mse2)
print(absolut2)

pyplot.plot(model.coef_, ['Temperature_c', 'Humidity', 'Wind_Speed_kmh', 'Pressure_millibars', 'Rain'])

pyplot.scatter(check_test2['y_test'],check_test2['x_pred'])

Scaler = MinMaxScaler()
stx = Scaler.fit_transform(X_train)
X_trsc = pd.DataFrame(stx, columns = ['Temperature_c', 'Humidity', 'Wind_Speed_kmh', 'Pressure_millibars', 'Rain'])

model.fit(X_trsc,y_train)
X_predict2 = model.predict(X_trsc)

check_test3 = pd.DataFrame({
    'y_test':y_train,
    'x_pred': X_predict2.flatten(),
})
check_test3['error'] = check_test3['x_pred'] - check_test3['y_test']
mse3 = (check_test2['error']**2).mean()
absolut3 = (np.abs(check_test3['error'])).mean()
print(mse3)
print(absolut3)
pyplot.scatter(check_test3['y_test'],check_test3['x_pred'])

Вывод: Прогнозирование "Видимости" возможно при условии разделения видимости на три параметра: Min Middle Max Данная модель использована для проверки Линейной регрессии для данного датасета,результат: Не применимо. К сожалению другие модели еще не освоены.

Курсовой провект версия 2 Lasso
'''
import numpy as np
import pandas as pd
from matplotlib import pyplot as plt
import sklearn
from sklearn.model_selection import train_test_split
'''
'''
ds = pd.read_csv('/home/orangepi/Downloads/weather.csv', sep = ',')
#ds = pd.read_csv('/content/drive/MyDrive/weather.csv', sep = ',')
target = pd.DataFrame(ds['Visibility_km'])
#'/home/orangepi/Downloads/weather.csv'
data = pd.DataFrame(ds, columns=['Temperature_c','Humidity','Wind_Speed_kmh','Rain','Pressure_millibars',])
n = data['Pressure_millibars']

data['Pressure_millibars'].replace('0','1013.99' )
'''
'''
from sklearn.model_selection import train_test_split
X_train,X_test,y_test,y_trainn = train_test_split(data, target, random_state=42)
print(X_test.shape)
print(X_train.shape)
print(y_trainn.shape)
print(y_test.shape)
'''

'''
from sklearn.linear_model import Lasso
alpha = 0.1
lasso = Lasso(alpha=alpha)
f = lasso.fit(X_test,y_trainn)
m = lasso.predict(X_train)
z = plt.scatter(m, y_test)
plt.show()
'''


